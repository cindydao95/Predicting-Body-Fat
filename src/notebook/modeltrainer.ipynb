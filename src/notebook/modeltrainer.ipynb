{
 "cells": [
  {
   "cell_type": "code",
   "execution_count": null,
   "metadata": {},
   "outputs": [],
   "source": []
  },
  {
   "cell_type": "markdown",
   "metadata": {},
   "source": [
    "# Training Model Steps\n",
    "- Scaling all the potential predictors(Use StandarScaler)\n",
    "- Feature Selection\n",
    "- Run all possible Machine Learning\n",
    "- Fine tune the model and incoport L regulation \n"
   ]
  },
  {
   "cell_type": "markdown",
   "metadata": {},
   "source": [
    "# Import all libraries"
   ]
  },
  {
   "cell_type": "markdown",
   "metadata": {},
   "source": []
  },
  {
   "cell_type": "code",
   "execution_count": 24,
   "metadata": {},
   "outputs": [],
   "source": [
    "# Basic Import\n",
    "import os\n",
    "import numpy as np\n",
    "import pandas as pd\n",
    "import matplotlib.pyplot as plt \n",
    "import seaborn as sns\n",
    "import pickle\n",
    "# Modelling\n",
    "from sklearn.metrics import mean_squared_error, r2_score\n",
    "from sklearn.neighbors import KNeighborsRegressor\n",
    "from sklearn.tree import DecisionTreeRegressor\n",
    "from sklearn.ensemble import RandomForestRegressor,AdaBoostRegressor\n",
    "from sklearn.svm import SVR\n",
    "from sklearn.linear_model import LinearRegression, Ridge,Lasso\n",
    "from sklearn.metrics import r2_score, mean_absolute_error, mean_squared_error\n",
    "from sklearn.model_selection import RandomizedSearchCV\n",
    "from catboost import CatBoostRegressor\n",
    "from xgboost import XGBRegressor\n",
    "import warnings"
   ]
  },
  {
   "cell_type": "code",
   "execution_count": 25,
   "metadata": {},
   "outputs": [],
   "source": [
    "# Read the data\n",
    "path = os.path.join(\"data\",\"bodyfat-comp.csv\")\n",
    "df = pd.read_csv(path)\n"
   ]
  },
  {
   "cell_type": "markdown",
   "metadata": {},
   "source": [
    "# 1. Scaling all numerical variables with StanderScaler"
   ]
  },
  {
   "cell_type": "code",
   "execution_count": 26,
   "metadata": {},
   "outputs": [],
   "source": [
    "# separate predictors and dependent variable\n",
    "x = df.drop(columns = ['Id','Density','BodyFat'], axis =1) #Predictor Features\n",
    "y = df['BodyFat'] #Label"
   ]
  },
  {
   "cell_type": "code",
   "execution_count": 27,
   "metadata": {},
   "outputs": [],
   "source": [
    "from sklearn.preprocessing import StandardScaler\n",
    "scaler = StandardScaler().fit(x)\n",
    "\n"
   ]
  },
  {
   "cell_type": "code",
   "execution_count": 28,
   "metadata": {},
   "outputs": [
    {
     "name": "stdout",
     "output_type": "stream",
     "text": [
      "The folder saved_picklefile already exists at c:\\Users\\cindydao\\ineuron-ML\\mlproject\\src\\notebook\\saved_picklefile\n",
      "The file scale_numeric_var.pkl already exists\n"
     ]
    }
   ],
   "source": [
    "# Create new folder named saved_picklefile\n",
    "folder_name = 'saved_picklefile'\n",
    "new_folder_path = os.path.join(os.getcwd(),folder_name)\n",
    "if not os.path.exists(new_folder_path):\n",
    "    os.mkdir(new_folder_path)\n",
    "    print(f'The folder {folder_name} has been created at {new_folder_path}')\n",
    "else:\n",
    "    print(f'The folder {folder_name} already exists at {new_folder_path}')\n",
    "\n",
    "\n",
    "#save scaler file\n",
    "\n",
    "scaler_file = \"scale_numeric_var.pkl\"\n",
    "path2 = os.path.join(new_folder_path,scaler_file)\n",
    "if not os.path.exists(path2):\n",
    "    pickle.dump(scaler, open(path2,\"wb\"))\n",
    "    print(f\"The file {scaler_file} has been saved at {path2}\")  \n",
    "else:\n",
    "    print(f\"The file {scaler_file} already exists\")"
   ]
  },
  {
   "cell_type": "code",
   "execution_count": 29,
   "metadata": {},
   "outputs": [],
   "source": [
    "X_scaled = scaler.transform(x)"
   ]
  },
  {
   "cell_type": "code",
   "execution_count": 30,
   "metadata": {},
   "outputs": [
    {
     "data": {
      "text/html": [
       "<div>\n",
       "<style scoped>\n",
       "    .dataframe tbody tr th:only-of-type {\n",
       "        vertical-align: middle;\n",
       "    }\n",
       "\n",
       "    .dataframe tbody tr th {\n",
       "        vertical-align: top;\n",
       "    }\n",
       "\n",
       "    .dataframe thead th {\n",
       "        text-align: right;\n",
       "    }\n",
       "</style>\n",
       "<table border=\"1\" class=\"dataframe\">\n",
       "  <thead>\n",
       "    <tr style=\"text-align: right;\">\n",
       "      <th></th>\n",
       "      <th>Age</th>\n",
       "      <th>Weight</th>\n",
       "      <th>Height</th>\n",
       "      <th>Neck</th>\n",
       "      <th>Chest</th>\n",
       "      <th>Abdomen</th>\n",
       "      <th>Hip</th>\n",
       "      <th>Thigh</th>\n",
       "      <th>Knee</th>\n",
       "      <th>Ankle</th>\n",
       "      <th>Biceps</th>\n",
       "      <th>Forearm</th>\n",
       "      <th>Wrist</th>\n",
       "    </tr>\n",
       "  </thead>\n",
       "  <tbody>\n",
       "    <tr>\n",
       "      <th>0</th>\n",
       "      <td>22</td>\n",
       "      <td>173.25</td>\n",
       "      <td>72.25</td>\n",
       "      <td>38.5</td>\n",
       "      <td>93.6</td>\n",
       "      <td>83.0</td>\n",
       "      <td>98.7</td>\n",
       "      <td>58.7</td>\n",
       "      <td>37.3</td>\n",
       "      <td>23.4</td>\n",
       "      <td>30.5</td>\n",
       "      <td>28.9</td>\n",
       "      <td>18.2</td>\n",
       "    </tr>\n",
       "    <tr>\n",
       "      <th>1</th>\n",
       "      <td>22</td>\n",
       "      <td>154.00</td>\n",
       "      <td>66.25</td>\n",
       "      <td>34.0</td>\n",
       "      <td>95.8</td>\n",
       "      <td>87.9</td>\n",
       "      <td>99.2</td>\n",
       "      <td>59.6</td>\n",
       "      <td>38.9</td>\n",
       "      <td>24.0</td>\n",
       "      <td>28.8</td>\n",
       "      <td>25.2</td>\n",
       "      <td>16.6</td>\n",
       "    </tr>\n",
       "    <tr>\n",
       "      <th>2</th>\n",
       "      <td>26</td>\n",
       "      <td>184.75</td>\n",
       "      <td>72.25</td>\n",
       "      <td>37.4</td>\n",
       "      <td>101.8</td>\n",
       "      <td>86.4</td>\n",
       "      <td>101.2</td>\n",
       "      <td>60.1</td>\n",
       "      <td>37.3</td>\n",
       "      <td>22.8</td>\n",
       "      <td>32.4</td>\n",
       "      <td>29.4</td>\n",
       "      <td>18.2</td>\n",
       "    </tr>\n",
       "    <tr>\n",
       "      <th>3</th>\n",
       "      <td>24</td>\n",
       "      <td>210.25</td>\n",
       "      <td>74.75</td>\n",
       "      <td>39.0</td>\n",
       "      <td>104.5</td>\n",
       "      <td>94.4</td>\n",
       "      <td>107.8</td>\n",
       "      <td>66.0</td>\n",
       "      <td>42.0</td>\n",
       "      <td>25.6</td>\n",
       "      <td>35.7</td>\n",
       "      <td>30.6</td>\n",
       "      <td>18.8</td>\n",
       "    </tr>\n",
       "    <tr>\n",
       "      <th>4</th>\n",
       "      <td>26</td>\n",
       "      <td>181.00</td>\n",
       "      <td>69.75</td>\n",
       "      <td>36.4</td>\n",
       "      <td>105.1</td>\n",
       "      <td>90.7</td>\n",
       "      <td>100.3</td>\n",
       "      <td>58.4</td>\n",
       "      <td>38.3</td>\n",
       "      <td>22.9</td>\n",
       "      <td>31.9</td>\n",
       "      <td>27.8</td>\n",
       "      <td>17.7</td>\n",
       "    </tr>\n",
       "    <tr>\n",
       "      <th>...</th>\n",
       "      <td>...</td>\n",
       "      <td>...</td>\n",
       "      <td>...</td>\n",
       "      <td>...</td>\n",
       "      <td>...</td>\n",
       "      <td>...</td>\n",
       "      <td>...</td>\n",
       "      <td>...</td>\n",
       "      <td>...</td>\n",
       "      <td>...</td>\n",
       "      <td>...</td>\n",
       "      <td>...</td>\n",
       "      <td>...</td>\n",
       "    </tr>\n",
       "    <tr>\n",
       "      <th>163</th>\n",
       "      <td>67</td>\n",
       "      <td>227.75</td>\n",
       "      <td>72.75</td>\n",
       "      <td>41.3</td>\n",
       "      <td>115.8</td>\n",
       "      <td>113.4</td>\n",
       "      <td>109.8</td>\n",
       "      <td>65.6</td>\n",
       "      <td>46.0</td>\n",
       "      <td>25.4</td>\n",
       "      <td>35.3</td>\n",
       "      <td>29.8</td>\n",
       "      <td>19.5</td>\n",
       "    </tr>\n",
       "    <tr>\n",
       "      <th>164</th>\n",
       "      <td>68</td>\n",
       "      <td>155.50</td>\n",
       "      <td>69.25</td>\n",
       "      <td>36.3</td>\n",
       "      <td>97.4</td>\n",
       "      <td>84.3</td>\n",
       "      <td>94.4</td>\n",
       "      <td>54.3</td>\n",
       "      <td>37.5</td>\n",
       "      <td>22.6</td>\n",
       "      <td>29.2</td>\n",
       "      <td>27.3</td>\n",
       "      <td>18.5</td>\n",
       "    </tr>\n",
       "    <tr>\n",
       "      <th>165</th>\n",
       "      <td>69</td>\n",
       "      <td>215.50</td>\n",
       "      <td>70.50</td>\n",
       "      <td>40.8</td>\n",
       "      <td>113.7</td>\n",
       "      <td>107.6</td>\n",
       "      <td>110.0</td>\n",
       "      <td>63.3</td>\n",
       "      <td>44.0</td>\n",
       "      <td>22.6</td>\n",
       "      <td>37.5</td>\n",
       "      <td>32.6</td>\n",
       "      <td>18.8</td>\n",
       "    </tr>\n",
       "    <tr>\n",
       "      <th>166</th>\n",
       "      <td>70</td>\n",
       "      <td>134.25</td>\n",
       "      <td>67.00</td>\n",
       "      <td>34.9</td>\n",
       "      <td>89.2</td>\n",
       "      <td>83.6</td>\n",
       "      <td>88.8</td>\n",
       "      <td>49.6</td>\n",
       "      <td>34.8</td>\n",
       "      <td>21.5</td>\n",
       "      <td>25.6</td>\n",
       "      <td>25.7</td>\n",
       "      <td>18.5</td>\n",
       "    </tr>\n",
       "    <tr>\n",
       "      <th>167</th>\n",
       "      <td>72</td>\n",
       "      <td>186.75</td>\n",
       "      <td>66.00</td>\n",
       "      <td>38.9</td>\n",
       "      <td>111.1</td>\n",
       "      <td>111.5</td>\n",
       "      <td>101.7</td>\n",
       "      <td>60.3</td>\n",
       "      <td>37.3</td>\n",
       "      <td>21.5</td>\n",
       "      <td>31.3</td>\n",
       "      <td>27.2</td>\n",
       "      <td>18.0</td>\n",
       "    </tr>\n",
       "  </tbody>\n",
       "</table>\n",
       "<p>168 rows × 13 columns</p>\n",
       "</div>"
      ],
      "text/plain": [
       "     Age  Weight  Height  Neck  Chest  Abdomen    Hip  Thigh  Knee  Ankle  \\\n",
       "0     22  173.25   72.25  38.5   93.6     83.0   98.7   58.7  37.3   23.4   \n",
       "1     22  154.00   66.25  34.0   95.8     87.9   99.2   59.6  38.9   24.0   \n",
       "2     26  184.75   72.25  37.4  101.8     86.4  101.2   60.1  37.3   22.8   \n",
       "3     24  210.25   74.75  39.0  104.5     94.4  107.8   66.0  42.0   25.6   \n",
       "4     26  181.00   69.75  36.4  105.1     90.7  100.3   58.4  38.3   22.9   \n",
       "..   ...     ...     ...   ...    ...      ...    ...    ...   ...    ...   \n",
       "163   67  227.75   72.75  41.3  115.8    113.4  109.8   65.6  46.0   25.4   \n",
       "164   68  155.50   69.25  36.3   97.4     84.3   94.4   54.3  37.5   22.6   \n",
       "165   69  215.50   70.50  40.8  113.7    107.6  110.0   63.3  44.0   22.6   \n",
       "166   70  134.25   67.00  34.9   89.2     83.6   88.8   49.6  34.8   21.5   \n",
       "167   72  186.75   66.00  38.9  111.1    111.5  101.7   60.3  37.3   21.5   \n",
       "\n",
       "     Biceps  Forearm  Wrist  \n",
       "0      30.5     28.9   18.2  \n",
       "1      28.8     25.2   16.6  \n",
       "2      32.4     29.4   18.2  \n",
       "3      35.7     30.6   18.8  \n",
       "4      31.9     27.8   17.7  \n",
       "..      ...      ...    ...  \n",
       "163    35.3     29.8   19.5  \n",
       "164    29.2     27.3   18.5  \n",
       "165    37.5     32.6   18.8  \n",
       "166    25.6     25.7   18.5  \n",
       "167    31.3     27.2   18.0  \n",
       "\n",
       "[168 rows x 13 columns]"
      ]
     },
     "execution_count": 30,
     "metadata": {},
     "output_type": "execute_result"
    }
   ],
   "source": [
    "x"
   ]
  },
  {
   "cell_type": "markdown",
   "metadata": {},
   "source": [
    "# 2. Feature Selection"
   ]
  },
  {
   "cell_type": "markdown",
   "metadata": {},
   "source": [
    "#### Apply Feature Selection to avoid overfitting"
   ]
  },
  {
   "cell_type": "code",
   "execution_count": 31,
   "metadata": {},
   "outputs": [],
   "source": [
    "from sklearn.feature_selection import SelectKBest\n",
    "from sklearn.feature_selection import f_classif"
   ]
  },
  {
   "cell_type": "code",
   "execution_count": 32,
   "metadata": {},
   "outputs": [
    {
     "data": {
      "text/plain": [
       "((134, 13), (34, 13))"
      ]
     },
     "execution_count": 32,
     "metadata": {},
     "output_type": "execute_result"
    }
   ],
   "source": [
    "#Split data into train and test\n",
    "from sklearn.model_selection import train_test_split\n",
    "X_train,X_test,y_train,y_test = train_test_split(X_scaled,y,test_size=0.2, random_state=42)\n",
    "X_train.shape, X_test.shape"
   ]
  },
  {
   "cell_type": "code",
   "execution_count": 33,
   "metadata": {},
   "outputs": [],
   "source": [
    "def evaluate_model(true, predicted):\n",
    "    mae = mean_absolute_error(true, predicted)\n",
    "    mse = mean_squared_error(true, predicted)\n",
    "    rmse = np.sqrt(mean_squared_error(true, predicted))\n",
    "    r2_square = r2_score(true, predicted)\n",
    "    return mae, rmse, r2_square"
   ]
  },
  {
   "cell_type": "code",
   "execution_count": 34,
   "metadata": {},
   "outputs": [
    {
     "name": "stdout",
     "output_type": "stream",
     "text": [
      "For k = 1\n",
      "Model performance for Training set\n",
      "- Root Mean Squared Error: 4.8245\n",
      "- Mean Absolute Error: 3.9887\n",
      "- R2 Score: 0.6434\n",
      "----------------------------------\n",
      "Model performance for Test set\n",
      "- Root Mean Squared Error: 4.6526\n",
      "- Mean Absolute Error: 3.6372\n",
      "- R2 Score: 0.6477\n",
      "----------------------------------\n",
      "----------------------------------\n",
      "----------------------------------\n",
      "For k = 2\n",
      "Model performance for Training set\n",
      "- Root Mean Squared Error: 4.7406\n",
      "- Mean Absolute Error: 3.9381\n",
      "- R2 Score: 0.6557\n",
      "----------------------------------\n",
      "Model performance for Test set\n",
      "- Root Mean Squared Error: 4.6078\n",
      "- Mean Absolute Error: 3.6906\n",
      "- R2 Score: 0.6544\n",
      "----------------------------------\n",
      "----------------------------------\n",
      "----------------------------------\n",
      "For k = 3\n",
      "Model performance for Training set\n",
      "- Root Mean Squared Error: 4.7077\n",
      "- Mean Absolute Error: 3.9181\n",
      "- R2 Score: 0.6605\n",
      "----------------------------------\n",
      "Model performance for Test set\n",
      "- Root Mean Squared Error: 4.4065\n",
      "- Mean Absolute Error: 3.5383\n",
      "- R2 Score: 0.6840\n",
      "----------------------------------\n",
      "----------------------------------\n",
      "----------------------------------\n",
      "For k = 4\n",
      "Model performance for Training set\n",
      "- Root Mean Squared Error: 4.4432\n",
      "- Mean Absolute Error: 3.7191\n",
      "- R2 Score: 0.6976\n",
      "----------------------------------\n",
      "Model performance for Test set\n",
      "- Root Mean Squared Error: 4.6684\n",
      "- Mean Absolute Error: 3.6508\n",
      "- R2 Score: 0.6453\n",
      "----------------------------------\n",
      "----------------------------------\n",
      "----------------------------------\n",
      "For k = 5\n",
      "Model performance for Training set\n",
      "- Root Mean Squared Error: 4.4254\n",
      "- Mean Absolute Error: 3.7036\n",
      "- R2 Score: 0.7000\n",
      "----------------------------------\n",
      "Model performance for Test set\n",
      "- Root Mean Squared Error: 4.6968\n",
      "- Mean Absolute Error: 3.6674\n",
      "- R2 Score: 0.6410\n",
      "----------------------------------\n",
      "----------------------------------\n",
      "----------------------------------\n",
      "For k = 6\n",
      "Model performance for Training set\n",
      "- Root Mean Squared Error: 4.4060\n",
      "- Mean Absolute Error: 3.7017\n",
      "- R2 Score: 0.7026\n",
      "----------------------------------\n",
      "Model performance for Test set\n",
      "- Root Mean Squared Error: 4.5286\n",
      "- Mean Absolute Error: 3.5015\n",
      "- R2 Score: 0.6662\n",
      "----------------------------------\n",
      "----------------------------------\n",
      "----------------------------------\n",
      "For k = 7\n",
      "Model performance for Training set\n",
      "- Root Mean Squared Error: 4.4059\n",
      "- Mean Absolute Error: 3.7036\n",
      "- R2 Score: 0.7026\n",
      "----------------------------------\n",
      "Model performance for Test set\n",
      "- Root Mean Squared Error: 4.5237\n",
      "- Mean Absolute Error: 3.4980\n",
      "- R2 Score: 0.6669\n",
      "----------------------------------\n",
      "----------------------------------\n",
      "----------------------------------\n",
      "For k = 8\n",
      "Model performance for Training set\n",
      "- Root Mean Squared Error: 4.3690\n",
      "- Mean Absolute Error: 3.6836\n",
      "- R2 Score: 0.7076\n",
      "----------------------------------\n",
      "Model performance for Test set\n",
      "- Root Mean Squared Error: 4.4422\n",
      "- Mean Absolute Error: 3.4033\n",
      "- R2 Score: 0.6788\n",
      "----------------------------------\n",
      "----------------------------------\n",
      "----------------------------------\n",
      "For k = 9\n",
      "Model performance for Training set\n",
      "- Root Mean Squared Error: 4.3675\n",
      "- Mean Absolute Error: 3.6830\n",
      "- R2 Score: 0.7078\n",
      "----------------------------------\n",
      "Model performance for Test set\n",
      "- Root Mean Squared Error: 4.4440\n",
      "- Mean Absolute Error: 3.3886\n",
      "- R2 Score: 0.6786\n",
      "----------------------------------\n",
      "----------------------------------\n",
      "----------------------------------\n",
      "For k = 10\n",
      "Model performance for Training set\n",
      "- Root Mean Squared Error: 4.3469\n",
      "- Mean Absolute Error: 3.6316\n",
      "- R2 Score: 0.7105\n",
      "----------------------------------\n",
      "Model performance for Test set\n",
      "- Root Mean Squared Error: 4.4871\n",
      "- Mean Absolute Error: 3.4104\n",
      "- R2 Score: 0.6723\n",
      "----------------------------------\n",
      "----------------------------------\n",
      "----------------------------------\n",
      "For k = 11\n",
      "Model performance for Training set\n",
      "- Root Mean Squared Error: 4.3455\n",
      "- Mean Absolute Error: 3.6205\n",
      "- R2 Score: 0.7107\n",
      "----------------------------------\n",
      "Model performance for Test set\n",
      "- Root Mean Squared Error: 4.4544\n",
      "- Mean Absolute Error: 3.3703\n",
      "- R2 Score: 0.6771\n",
      "----------------------------------\n",
      "----------------------------------\n",
      "----------------------------------\n",
      "For k = 12\n",
      "Model performance for Training set\n",
      "- Root Mean Squared Error: 4.2697\n",
      "- Mean Absolute Error: 3.5367\n",
      "- R2 Score: 0.7207\n",
      "----------------------------------\n",
      "Model performance for Test set\n",
      "- Root Mean Squared Error: 4.5160\n",
      "- Mean Absolute Error: 3.5287\n",
      "- R2 Score: 0.6681\n",
      "----------------------------------\n",
      "----------------------------------\n",
      "----------------------------------\n",
      "For k = 13\n",
      "Model performance for Training set\n",
      "- Root Mean Squared Error: 4.2684\n",
      "- Mean Absolute Error: 3.5423\n",
      "- R2 Score: 0.7209\n",
      "----------------------------------\n",
      "Model performance for Test set\n",
      "- Root Mean Squared Error: 4.4764\n",
      "- Mean Absolute Error: 3.5161\n",
      "- R2 Score: 0.6739\n",
      "----------------------------------\n",
      "----------------------------------\n",
      "----------------------------------\n"
     ]
    }
   ],
   "source": [
    "\n",
    "linear_model = LinearRegression()\n",
    "k_list = []\n",
    "rmse_test_list = []\n",
    "rmse_train_list = []\n",
    "for k in range(1,14,1):\n",
    "    # define feature selection\n",
    "    fs = SelectKBest(score_func=f_classif, k=k)\n",
    "    # apply feature selection\n",
    "    fs.fit(X_train, y_train)\n",
    "    \n",
    "    X_train_selected = fs.transform(X_train)\n",
    "    X_test_selected = fs.transform(X_test)\n",
    "    \n",
    "    #train the model\n",
    "    linear_model.fit(X_train_selected,y_train)\n",
    "    #predict the output\n",
    "    y_train_predict = linear_model.predict(X_train_selected)\n",
    "    y_test_predict = linear_model.predict(X_test_selected)\n",
    "    #evaluate the model\n",
    "    mae_train, rmse_train, r2_square_train = evaluate_model(y_train,y_train_predict) \n",
    "    mae_test, rmse_test, r2_square_test = evaluate_model(y_test,y_test_predict)\n",
    "\n",
    "    k_list.append(k)\n",
    "    rmse_test_list.append(rmse_test)\n",
    "    rmse_train_list.append(rmse_train)\n",
    "    print(f'For k = {k}')\n",
    "    print('Model performance for Training set')\n",
    "    print(\"- Root Mean Squared Error: {:.4f}\".format(rmse_train))\n",
    "    print(\"- Mean Absolute Error: {:.4f}\".format(mae_train))\n",
    "    print(\"- R2 Score: {:.4f}\".format(r2_square_train))\n",
    "\n",
    "    print('----------------------------------')\n",
    "        \n",
    "    print('Model performance for Test set')\n",
    "    print(\"- Root Mean Squared Error: {:.4f}\".format(rmse_test))\n",
    "    print(\"- Mean Absolute Error: {:.4f}\".format(mae_test))\n",
    "    print(\"- R2 Score: {:.4f}\".format(r2_square_test))\n",
    "\n",
    "    print('----------------------------------')\n",
    "    print('----------------------------------')\n",
    "    print('----------------------------------')\n"
   ]
  },
  {
   "cell_type": "code",
   "execution_count": 35,
   "metadata": {},
   "outputs": [
    {
     "data": {
      "text/plain": [
       "Text(0, 0.5, 'Mean Square Error')"
      ]
     },
     "execution_count": 35,
     "metadata": {},
     "output_type": "execute_result"
    },
    {
     "data": {
      "image/png": "[encoded data removed]",
      "text/plain": [
       "<Figure size 640x480 with 1 Axes>"
      ]
     },
     "metadata": {},
     "output_type": "display_data"
    }
   ],
   "source": [
    "import seaborn as sns\n",
    "import matplotlib.pyplot as plt\n",
    "%matplotlib inline\n",
    "fig, ax = plt.subplots()\n",
    "sns.lineplot(x = k_list, y = rmse_train_list,label = 'rmse_train', ax = ax)\n",
    "for i in range(len(rmse_train_list)):\n",
    "    ax.text(k_list[i],rmse_train_list[i],str(rmse_train_list[i].round(2)),ha = 'center', va='bottom')\n",
    "sns.lineplot(x = k_list, y = rmse_test_list,label = 'rmse_test', ax=ax)\n",
    "for i in range(len(rmse_test_list)):\n",
    "    ax.text(k_list[i],rmse_test_list[i],str(rmse_test_list[i].round(2)),ha = 'center', va='bottom')\n",
    "ax.set_xticks(k_list)\n",
    "ax.set_title(\"Learning curve showing mean square error respects to number of Selected Features\")\n",
    "ax.set_xlabel('Number of Selected Features')\n",
    "ax.set_ylabel('Mean Square Error')"
   ]
  },
  {
   "cell_type": "code",
   "execution_count": 36,
   "metadata": {},
   "outputs": [
    {
     "data": {
      "text/plain": [
       "matplotlib.axes._axes.Axes"
      ]
     },
     "execution_count": 36,
     "metadata": {},
     "output_type": "execute_result"
    }
   ],
   "source": [
    "type(ax)"
   ]
  },
  {
   "cell_type": "markdown",
   "metadata": {},
   "source": [
    "#### Firgure 1: The graph shows that,at k = 8 or 9, we have the lowest mean square error on train and test sets. However, when looking at there error from the report, at k = 8 Mean square error is 4.4422, R_2 score is 0.6788, while at k = 9, MSE is 4.4440 larger than k=8, and R2 score is 0.6786 smaller than R2 of K=8. Therefore, this project select 8 features."
   ]
  },
  {
   "cell_type": "code",
   "execution_count": 37,
   "metadata": {},
   "outputs": [],
   "source": [
    "all_feature_names = x.columns"
   ]
  },
  {
   "cell_type": "code",
   "execution_count": 38,
   "metadata": {},
   "outputs": [],
   "source": [
    "fs = SelectKBest(score_func=f_classif, k=8)\n",
    "# apply feature selection that select 9 features\n",
    "fs.fit(X_train, y_train)\n",
    "selected_feature_names = fs.get_feature_names_out(all_feature_names)\n",
    "X_train_selected = fs.transform(X_train)\n",
    "X_test_selected = fs.transform(X_test)"
   ]
  },
  {
   "cell_type": "code",
   "execution_count": 39,
   "metadata": {},
   "outputs": [
    {
     "data": {
      "text/plain": [
       "Index(['Age', 'Weight', 'Height', 'Neck', 'Chest', 'Abdomen', 'Hip', 'Thigh',\n",
       "       'Knee', 'Ankle', 'Biceps', 'Forearm', 'Wrist'],\n",
       "      dtype='object')"
      ]
     },
     "execution_count": 39,
     "metadata": {},
     "output_type": "execute_result"
    }
   ],
   "source": [
    "all_feature_names"
   ]
  },
  {
   "cell_type": "code",
   "execution_count": 40,
   "metadata": {},
   "outputs": [
    {
     "name": "stdout",
     "output_type": "stream",
     "text": [
      "These are the following selected features: ['Weight' 'Neck' 'Chest' 'Abdomen' 'Hip' 'Thigh' 'Knee' 'Biceps']\n"
     ]
    }
   ],
   "source": [
    "print(f'These are the following selected features: {selected_feature_names}')\n"
   ]
  },
  {
   "cell_type": "markdown",
   "metadata": {},
   "source": [
    "# 3. Run all possible ML models"
   ]
  },
  {
   "cell_type": "code",
   "execution_count": 41,
   "metadata": {},
   "outputs": [],
   "source": [
    "def evaluate_model(true, predicted):\n",
    "    mae = mean_absolute_error(true, predicted)\n",
    "    mse = mean_squared_error(true, predicted)\n",
    "    rmse = np.sqrt(mean_squared_error(true, predicted))\n",
    "    r2_square = r2_score(true, predicted)\n",
    "    return mae, rmse, r2_square"
   ]
  },
  {
   "cell_type": "code",
   "execution_count": 42,
   "metadata": {},
   "outputs": [
    {
     "name": "stdout",
     "output_type": "stream",
     "text": [
      "Linear Regression\n",
      "Model performance for Training set\n",
      "- Root Mean Squared Error: 4.3690\n",
      "- Mean Absolute Error: 3.6836\n",
      "- R2 Score: 0.7076\n",
      "----------------------------------\n",
      "Model performance for Test set\n",
      "- Root Mean Squared Error: 4.4422\n",
      "- Mean Absolute Error: 3.4033\n",
      "- R2 Score: 0.6788\n",
      "===================================\n",
      "\n",
      "\n",
      "Lasso\n",
      "Model performance for Training set\n",
      "- Root Mean Squared Error: 4.9243\n",
      "- Mean Absolute Error: 4.0257\n",
      "- R2 Score: 0.6285\n",
      "----------------------------------\n",
      "Model performance for Test set\n",
      "- Root Mean Squared Error: 4.8563\n",
      "- Mean Absolute Error: 4.0363\n",
      "- R2 Score: 0.6161\n",
      "===================================\n",
      "\n",
      "\n",
      "Ridge\n",
      "Model performance for Training set\n",
      "- Root Mean Squared Error: 4.3729\n",
      "- Mean Absolute Error: 3.6754\n",
      "- R2 Score: 0.7071\n",
      "----------------------------------\n",
      "Model performance for Test set\n",
      "- Root Mean Squared Error: 4.4553\n",
      "- Mean Absolute Error: 3.4190\n",
      "- R2 Score: 0.6769\n",
      "===================================\n",
      "\n",
      "\n",
      "K-Neighbors Regressor\n",
      "Model performance for Training set\n",
      "- Root Mean Squared Error: 4.7462\n",
      "- Mean Absolute Error: 3.7515\n",
      "- R2 Score: 0.6549\n",
      "----------------------------------\n",
      "Model performance for Test set\n",
      "- Root Mean Squared Error: 5.3617\n",
      "- Mean Absolute Error: 4.2565\n",
      "- R2 Score: 0.5321\n",
      "===================================\n",
      "\n",
      "\n",
      "Decision Tree\n",
      "Model performance for Training set\n",
      "- Root Mean Squared Error: 0.0000\n",
      "- Mean Absolute Error: 0.0000\n",
      "- R2 Score: 1.0000\n",
      "----------------------------------\n",
      "Model performance for Test set\n",
      "- Root Mean Squared Error: 7.6165\n",
      "- Mean Absolute Error: 5.9765\n",
      "- R2 Score: 0.0558\n",
      "===================================\n",
      "\n",
      "\n",
      "Random Forest Regressor\n",
      "Model performance for Training set\n",
      "- Root Mean Squared Error: 1.9037\n",
      "- Mean Absolute Error: 1.5576\n",
      "- R2 Score: 0.9445\n",
      "----------------------------------\n",
      "Model performance for Test set\n",
      "- Root Mean Squared Error: 5.4024\n",
      "- Mean Absolute Error: 4.4225\n",
      "- R2 Score: 0.5250\n",
      "===================================\n",
      "\n",
      "\n",
      "XGBRegressor\n",
      "Model performance for Training set\n",
      "- Root Mean Squared Error: 0.0010\n",
      "- Mean Absolute Error: 0.0007\n",
      "- R2 Score: 1.0000\n",
      "----------------------------------\n",
      "Model performance for Test set\n",
      "- Root Mean Squared Error: 5.2077\n",
      "- Mean Absolute Error: 4.1223\n",
      "- R2 Score: 0.5586\n",
      "===================================\n",
      "\n",
      "\n",
      "CatBoosting Regressor\n",
      "Model performance for Training set\n",
      "- Root Mean Squared Error: 0.3887\n",
      "- Mean Absolute Error: 0.3156\n",
      "- R2 Score: 0.9977\n",
      "----------------------------------\n",
      "Model performance for Test set\n",
      "- Root Mean Squared Error: 4.5782\n",
      "- Mean Absolute Error: 3.6190\n",
      "- R2 Score: 0.6589\n",
      "===================================\n",
      "\n",
      "\n",
      "AdaBoost Regressor\n",
      "Model performance for Training set\n",
      "- Root Mean Squared Error: 3.3593\n",
      "- Mean Absolute Error: 2.9331\n",
      "- R2 Score: 0.8271\n",
      "----------------------------------\n",
      "Model performance for Test set\n",
      "- Root Mean Squared Error: 5.0530\n",
      "- Mean Absolute Error: 4.0747\n",
      "- R2 Score: 0.5844\n",
      "===================================\n",
      "\n",
      "\n"
     ]
    }
   ],
   "source": [
    "models = {\n",
    "    \"Linear Regression\": LinearRegression(),\n",
    "    \"Lasso\": Lasso(),\n",
    "    \"Ridge\": Ridge(),\n",
    "    \"K-Neighbors Regressor\": KNeighborsRegressor(),\n",
    "    \"Decision Tree\": DecisionTreeRegressor(),\n",
    "    \"Random Forest Regressor\": RandomForestRegressor(),\n",
    "    \"XGBRegressor\": XGBRegressor(), \n",
    "    \"CatBoosting Regressor\": CatBoostRegressor(verbose=False),\n",
    "    \"AdaBoost Regressor\": AdaBoostRegressor()\n",
    "}\n",
    "model_list = []\n",
    "rmse_train_list = []\n",
    "r2_test_list =[]\n",
    "rmse_test_list = []\n",
    "\n",
    "for i in range(len(list(models))):\n",
    "    model = list(models.values())[i]\n",
    "    model.fit(X_train_selected, y_train) # Train model\n",
    "\n",
    "    # Make predictions\n",
    "    y_train_pred = model.predict(X_train_selected)\n",
    "    y_test_pred = model.predict(X_test_selected)\n",
    "    \n",
    "    # Evaluate Train and Test dataset\n",
    "    model_train_mae , model_train_rmse, model_train_r2 = evaluate_model(y_train, y_train_pred)\n",
    "\n",
    "    model_test_mae , model_test_rmse, model_test_r2 = evaluate_model(y_test, y_test_pred)\n",
    "\n",
    "    \n",
    "    print(list(models.keys())[i])\n",
    "    model_list.append(list(models.keys())[i])\n",
    "    \n",
    "    print('Model performance for Training set')\n",
    "    print(\"- Root Mean Squared Error: {:.4f}\".format(model_train_rmse))\n",
    "    print(\"- Mean Absolute Error: {:.4f}\".format(model_train_mae))\n",
    "    print(\"- R2 Score: {:.4f}\".format(model_train_r2))\n",
    "    rmse_train_list.append(model_train_rmse)\n",
    "    print('----------------------------------')\n",
    "    \n",
    "    print('Model performance for Test set')\n",
    "    print(\"- Root Mean Squared Error: {:.4f}\".format(model_test_rmse))\n",
    "    print(\"- Mean Absolute Error: {:.4f}\".format(model_test_mae))\n",
    "    print(\"- R2 Score: {:.4f}\".format(model_test_r2))\n",
    "    r2_test_list.append(model_test_r2)\n",
    "    rmse_test_list.append(model_test_rmse)\n",
    "    \n",
    "    print('='*35)\n",
    "    print('\\n')"
   ]
  },
  {
   "cell_type": "code",
   "execution_count": 43,
   "metadata": {},
   "outputs": [
    {
     "data": {
      "text/plain": [
       "['Linear Regression',\n",
       " 'Lasso',\n",
       " 'Ridge',\n",
       " 'K-Neighbors Regressor',\n",
       " 'Decision Tree',\n",
       " 'Random Forest Regressor',\n",
       " 'XGBRegressor',\n",
       " 'CatBoosting Regressor',\n",
       " 'AdaBoost Regressor']"
      ]
     },
     "execution_count": 43,
     "metadata": {},
     "output_type": "execute_result"
    }
   ],
   "source": [
    "model_list"
   ]
  },
  {
   "cell_type": "code",
   "execution_count": 44,
   "metadata": {},
   "outputs": [
    {
     "data": {
      "text/plain": [
       "Text(0, 0.5, 'R2 Score')"
      ]
     },
     "execution_count": 44,
     "metadata": {},
     "output_type": "execute_result"
    },
    {
     "data": {
      "image/png": "[encoded data removed]",
      "text/plain": [
       "<Figure size 2000x500 with 1 Axes>"
      ]
     },
     "metadata": {},
     "output_type": "display_data"
    }
   ],
   "source": [
    "fig = plt.figure(figsize=(20,5))\n",
    "ax = sns.barplot(x =model_list, y = r2_test_list)\n",
    "for i, value in enumerate(r2_test_list):\n",
    "    ax.text(i,value,str(value.round(2)),ha='center',va='bottom')\n",
    "ax.set_title(\"R2 Score on Test Dataset Among Nine ML Models\")\n",
    "ax.set_xlabel(\"ML Models\")\n",
    "ax.set_ylabel(\"R2 Score\")"
   ]
  },
  {
   "cell_type": "markdown",
   "metadata": {},
   "source": [
    "#### Figure 2: Among these 9 models, Linear Regression has the highest R2 score, 0.68, on the test set."
   ]
  },
  {
   "cell_type": "code",
   "execution_count": 54,
   "metadata": {},
   "outputs": [
    {
     "data": {
      "text/plain": [
       "Text(0, 0.5, 'Mean Square Error')"
      ]
     },
     "execution_count": 54,
     "metadata": {},
     "output_type": "execute_result"
    },
    {
     "data": {
      "image/png": "[encoded data removed]",
      "text/plain": [
       "<Figure size 2000x500 with 1 Axes>"
      ]
     },
     "metadata": {},
     "output_type": "display_data"
    }
   ],
   "source": [
    "fig = plt.figure(figsize=(20,5))\n",
    "sns.set(style = \"whitegrid\")\n",
    "ax = sns.barplot(x =model_list, y = rmse_test_list)\n",
    "for i, value in enumerate(rmse_test_list):\n",
    "    ax.text(i,value,str(value.round(2)),ha='center',va='bottom')\n",
    "\n",
    "ax.set_title(\"Mean Square Error on Test Dataset Among Nine Machine Learning Models\")\n",
    "ax.set_xlabel(\"ML Models\")\n",
    "ax.set_ylabel(\"Mean Square Error\")"
   ]
  },
  {
   "cell_type": "markdown",
   "metadata": {},
   "source": [
    "#### Figure 3: Among nine models, Linear Regression has the lowest mean square error on test set, which is 4.44"
   ]
  },
  {
   "cell_type": "code",
   "execution_count": 56,
   "metadata": {},
   "outputs": [],
   "source": [
    "perform_df=pd.DataFrame(data = {'ModelName':model_list, 'rmseTrain':rmse_train_list, \n",
    "             'rmse_test':rmse_test_list})\n",
    "meltPer_df = pd.melt(perform_df,id_vars = 'ModelName')"
   ]
  },
  {
   "cell_type": "code",
   "execution_count": 67,
   "metadata": {},
   "outputs": [],
   "source": [
    "meltPer_df = meltPer_df.rename(columns={'variable':'DataSetType','value':'rmse_score'})"
   ]
  },
  {
   "cell_type": "code",
   "execution_count": 68,
   "metadata": {},
   "outputs": [
    {
     "data": {
      "text/plain": [
       "Text(0.5, 0, 'Model Name')"
      ]
     },
     "execution_count": 68,
     "metadata": {},
     "output_type": "execute_result"
    },
    {
     "data": {
      "image/png": "[encoded data removed]",
      "text/plain": [
       "<Figure size 2000x500 with 1 Axes>"
      ]
     },
     "metadata": {},
     "output_type": "display_data"
    }
   ],
   "source": [
    "fig = plt.figure(figsize=(20,5))\n",
    "sns.barplot(data=meltPer_df,x = 'ModelName',y = 'rmse_score', hue='DataSetType')\n",
    "plt.xlabel('Model Name')\n"
   ]
  },
  {
   "cell_type": "markdown",
   "metadata": {},
   "source": [
    "# 4. Fine-tune the model"
   ]
  },
  {
   "cell_type": "code",
   "execution_count": null,
   "metadata": {},
   "outputs": [],
   "source": []
  },
  {
   "cell_type": "markdown",
   "metadata": {},
   "source": [
    "### From above result, the 8 selected features give the best performance on Linear Regression model."
   ]
  },
  {
   "cell_type": "code",
   "execution_count": 70,
   "metadata": {},
   "outputs": [],
   "source": [
    "from sklearn.model_selection import GridSearchCV\n"
   ]
  },
  {
   "cell_type": "code",
   "execution_count": 75,
   "metadata": {},
   "outputs": [],
   "source": [
    "grid = {'fit_intercept':[True,False],\n",
    "        'positive':[True,False],\n",
    "        ''}\n",
    "linear_model = LinearRegression()\n",
    "grid_search = GridSearchCV(estimator=linear_model, param_grid=grid,n_jobs=-1,cv=5)"
   ]
  },
  {
   "cell_type": "code",
   "execution_count": 76,
   "metadata": {},
   "outputs": [
    {
     "data": {
      "text/html": [
       "<style>#sk-container-id-1 {color: black;background-color: white;}#sk-container-id-1 pre{padding: 0;}#sk-container-id-1 div.sk-toggleable {background-color: white;}#sk-container-id-1 label.sk-toggleable__label {cursor: pointer;display: block;width: 100%;margin-bottom: 0;padding: 0.3em;box-sizing: border-box;text-align: center;}#sk-container-id-1 label.sk-toggleable__label-arrow:before {content: \"▸\";float: left;margin-right: 0.25em;color: #696969;}#sk-container-id-1 label.sk-toggleable__label-arrow:hover:before {color: black;}#sk-container-id-1 div.sk-estimator:hover label.sk-toggleable__label-arrow:before {color: black;}#sk-container-id-1 div.sk-toggleable__content {max-height: 0;max-width: 0;overflow: hidden;text-align: left;background-color: #f0f8ff;}#sk-container-id-1 div.sk-toggleable__content pre {margin: 0.2em;color: black;border-radius: 0.25em;background-color: #f0f8ff;}#sk-container-id-1 input.sk-toggleable__control:checked~div.sk-toggleable__content {max-height: 200px;max-width: 100%;overflow: auto;}#sk-container-id-1 input.sk-toggleable__control:checked~label.sk-toggleable__label-arrow:before {content: \"▾\";}#sk-container-id-1 div.sk-estimator input.sk-toggleable__control:checked~label.sk-toggleable__label {background-color: #d4ebff;}#sk-container-id-1 div.sk-label input.sk-toggleable__control:checked~label.sk-toggleable__label {background-color: #d4ebff;}#sk-container-id-1 input.sk-hidden--visually {border: 0;clip: rect(1px 1px 1px 1px);clip: rect(1px, 1px, 1px, 1px);height: 1px;margin: -1px;overflow: hidden;padding: 0;position: absolute;width: 1px;}#sk-container-id-1 div.sk-estimator {font-family: monospace;background-color: #f0f8ff;border: 1px dotted black;border-radius: 0.25em;box-sizing: border-box;margin-bottom: 0.5em;}#sk-container-id-1 div.sk-estimator:hover {background-color: #d4ebff;}#sk-container-id-1 div.sk-parallel-item::after {content: \"\";width: 100%;border-bottom: 1px solid gray;flex-grow: 1;}#sk-container-id-1 div.sk-label:hover label.sk-toggleable__label {background-color: #d4ebff;}#sk-container-id-1 div.sk-serial::before {content: \"\";position: absolute;border-left: 1px solid gray;box-sizing: border-box;top: 0;bottom: 0;left: 50%;z-index: 0;}#sk-container-id-1 div.sk-serial {display: flex;flex-direction: column;align-items: center;background-color: white;padding-right: 0.2em;padding-left: 0.2em;position: relative;}#sk-container-id-1 div.sk-item {position: relative;z-index: 1;}#sk-container-id-1 div.sk-parallel {display: flex;align-items: stretch;justify-content: center;background-color: white;position: relative;}#sk-container-id-1 div.sk-item::before, #sk-container-id-1 div.sk-parallel-item::before {content: \"\";position: absolute;border-left: 1px solid gray;box-sizing: border-box;top: 0;bottom: 0;left: 50%;z-index: -1;}#sk-container-id-1 div.sk-parallel-item {display: flex;flex-direction: column;z-index: 1;position: relative;background-color: white;}#sk-container-id-1 div.sk-parallel-item:first-child::after {align-self: flex-end;width: 50%;}#sk-container-id-1 div.sk-parallel-item:last-child::after {align-self: flex-start;width: 50%;}#sk-container-id-1 div.sk-parallel-item:only-child::after {width: 0;}#sk-container-id-1 div.sk-dashed-wrapped {border: 1px dashed gray;margin: 0 0.4em 0.5em 0.4em;box-sizing: border-box;padding-bottom: 0.4em;background-color: white;}#sk-container-id-1 div.sk-label label {font-family: monospace;font-weight: bold;display: inline-block;line-height: 1.2em;}#sk-container-id-1 div.sk-label-container {text-align: center;}#sk-container-id-1 div.sk-container {/* jupyter's `normalize.less` sets `[hidden] { display: none; }` but bootstrap.min.css set `[hidden] { display: none !important; }` so we also need the `!important` here to be able to override the default hidden behavior on the sphinx rendered scikit-learn.org. See: https://github.com/scikit-learn/scikit-learn/issues/21755 */display: inline-block !important;position: relative;}#sk-container-id-1 div.sk-text-repr-fallback {display: none;}</style><div id=\"sk-container-id-1\" class=\"sk-top-container\"><div class=\"sk-text-repr-fallback\"><pre>GridSearchCV(cv=5, estimator=LinearRegression(), n_jobs=-1,\n",
       "             param_grid={&#x27;fit_intercept&#x27;: [True, False],\n",
       "                         &#x27;positive&#x27;: [True, False]})</pre><b>In a Jupyter environment, please rerun this cell to show the HTML representation or trust the notebook. <br />On GitHub, the HTML representation is unable to render, please try loading this page with nbviewer.org.</b></div><div class=\"sk-container\" hidden><div class=\"sk-item sk-dashed-wrapped\"><div class=\"sk-label-container\"><div class=\"sk-label sk-toggleable\"><input class=\"sk-toggleable__control sk-hidden--visually\" id=\"sk-estimator-id-1\" type=\"checkbox\" ><label for=\"sk-estimator-id-1\" class=\"sk-toggleable__label sk-toggleable__label-arrow\">GridSearchCV</label><div class=\"sk-toggleable__content\"><pre>GridSearchCV(cv=5, estimator=LinearRegression(), n_jobs=-1,\n",
       "             param_grid={&#x27;fit_intercept&#x27;: [True, False],\n",
       "                         &#x27;positive&#x27;: [True, False]})</pre></div></div></div><div class=\"sk-parallel\"><div class=\"sk-parallel-item\"><div class=\"sk-item\"><div class=\"sk-label-container\"><div class=\"sk-label sk-toggleable\"><input class=\"sk-toggleable__control sk-hidden--visually\" id=\"sk-estimator-id-2\" type=\"checkbox\" ><label for=\"sk-estimator-id-2\" class=\"sk-toggleable__label sk-toggleable__label-arrow\">estimator: LinearRegression</label><div class=\"sk-toggleable__content\"><pre>LinearRegression()</pre></div></div></div><div class=\"sk-serial\"><div class=\"sk-item\"><div class=\"sk-estimator sk-toggleable\"><input class=\"sk-toggleable__control sk-hidden--visually\" id=\"sk-estimator-id-3\" type=\"checkbox\" ><label for=\"sk-estimator-id-3\" class=\"sk-toggleable__label sk-toggleable__label-arrow\">LinearRegression</label><div class=\"sk-toggleable__content\"><pre>LinearRegression()</pre></div></div></div></div></div></div></div></div></div></div>"
      ],
      "text/plain": [
       "GridSearchCV(cv=5, estimator=LinearRegression(), n_jobs=-1,\n",
       "             param_grid={'fit_intercept': [True, False],\n",
       "                         'positive': [True, False]})"
      ]
     },
     "execution_count": 76,
     "metadata": {},
     "output_type": "execute_result"
    }
   ],
   "source": [
    "grid_search.fit(X_train_selected,y_train)"
   ]
  },
  {
   "cell_type": "code",
   "execution_count": 79,
   "metadata": {},
   "outputs": [
    {
     "data": {
      "text/plain": [
       "{'mean_fit_time': array([0.00391278, 0.00503092, 0.00431304, 0.00340924]),\n",
       " 'std_fit_time': array([0.00074614, 0.00105326, 0.00373047, 0.00124731]),\n",
       " 'mean_score_time': array([0.00120306, 0.00090313, 0.00110512, 0.00121288]),\n",
       " 'std_score_time': array([0.00039807, 0.00049321, 0.00020209, 0.00081917]),\n",
       " 'param_fit_intercept': masked_array(data=[True, True, False, False],\n",
       "              mask=[False, False, False, False],\n",
       "        fill_value='?',\n",
       "             dtype=object),\n",
       " 'param_positive': masked_array(data=[True, False, True, False],\n",
       "              mask=[False, False, False, False],\n",
       "        fill_value='?',\n",
       "             dtype=object),\n",
       " 'params': [{'fit_intercept': True, 'positive': True},\n",
       "  {'fit_intercept': True, 'positive': False},\n",
       "  {'fit_intercept': False, 'positive': True},\n",
       "  {'fit_intercept': False, 'positive': False}],\n",
       " 'split0_test_score': array([ 0.58483848,  0.6572447 , -7.53442144, -8.89572844]),\n",
       " 'split1_test_score': array([ 0.74584691,  0.74907974, -3.95176577, -4.94078102]),\n",
       " 'split2_test_score': array([ 0.72595566,  0.73932142, -4.93134882, -5.05994908]),\n",
       " 'split3_test_score': array([ 0.61456442,  0.64451428, -3.0174281 , -4.20576535]),\n",
       " 'split4_test_score': array([  0.02069861,   0.31400792, -12.37419138, -12.20796917]),\n",
       " 'mean_test_score': array([ 0.53838082,  0.62083361, -6.3618311 , -7.06203861]),\n",
       " 'std_test_score': array([0.2661517 , 0.15906915, 3.36342594, 3.04989878]),\n",
       " 'rank_test_score': array([2, 1, 3, 4])}"
      ]
     },
     "execution_count": 79,
     "metadata": {},
     "output_type": "execute_result"
    }
   ],
   "source": [
    "grid_search.cv_results_"
   ]
  },
  {
   "cell_type": "code",
   "execution_count": 82,
   "metadata": {},
   "outputs": [
    {
     "data": {
      "text/plain": [
       "{'fit_intercept': True, 'positive': False}"
      ]
     },
     "execution_count": 82,
     "metadata": {},
     "output_type": "execute_result"
    }
   ],
   "source": [
    "grid_search.best_params_"
   ]
  },
  {
   "cell_type": "code",
   "execution_count": 85,
   "metadata": {},
   "outputs": [],
   "source": [
    "finetune_linearmodel = LinearRegression(fit_intercept=True,positive=False)"
   ]
  },
  {
   "cell_type": "code",
   "execution_count": 87,
   "metadata": {},
   "outputs": [],
   "source": [
    "finetune_linearmodel.fit(X_train_selected,y_train)\n",
    "\n",
    "y_train_pred = finetune_linearmodel.predict(X_train_selected)\n",
    "y_test_pred = finetune_linearmodel.predict(X_test_selected)\n",
    "    \n",
    "# Evaluate Test dataset\n",
    "\n",
    "model_test_mae , model_test_rmse, model_test_r2 = evaluate_model(y_test, y_test_pred)"
   ]
  },
  {
   "cell_type": "code",
   "execution_count": 88,
   "metadata": {},
   "outputs": [
    {
     "data": {
      "text/plain": [
       "4.442165062372895"
      ]
     },
     "execution_count": 88,
     "metadata": {},
     "output_type": "execute_result"
    }
   ],
   "source": [
    "model_test_rmse"
   ]
  }
 ],
 "metadata": {
  "kernelspec": {
   "display_name": "Python 3 (ipykernel)",
   "language": "python",
   "name": "python3"
  },
  "language_info": {
   "codemirror_mode": {
    "name": "ipython",
    "version": 3
   },
   "file_extension": ".py",
   "mimetype": "text/x-python",
   "name": "python",
   "nbconvert_exporter": "python",
   "pygments_lexer": "ipython3",
   "version": "3.9.13"
  }
 },
 "nbformat": 4,
 "nbformat_minor": 2
}
